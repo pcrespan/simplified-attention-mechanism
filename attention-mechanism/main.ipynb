{
 "cells": [
  {
   "cell_type": "code",
   "id": "initial_id",
   "metadata": {
    "collapsed": true,
    "ExecuteTime": {
     "end_time": "2024-12-15T13:53:30.129522Z",
     "start_time": "2024-12-15T13:53:30.126516Z"
    }
   },
   "source": "import torch",
   "outputs": [],
   "execution_count": 13
  },
  {
   "metadata": {
    "ExecuteTime": {
     "end_time": "2024-12-15T13:53:30.145661Z",
     "start_time": "2024-12-15T13:53:30.141475Z"
    }
   },
   "cell_type": "code",
   "source": [
    "inputs = torch.tensor(\n",
    "    [[0.43, 0.15, 0.89], # Your\n",
    "    [0.55, 0.87, 0.66],  # journey\n",
    "    [0.57, 0.85, 0.64],  # starts\n",
    "    [0.22, 0.58, 0.33],  # with\n",
    "    [0.77, 0.25, 0.10],  # one\n",
    "    [0.05, 0.80, 0.55]]  # step\n",
    ")"
   ],
   "id": "4858749b818b57a1",
   "outputs": [],
   "execution_count": 14
  },
  {
   "metadata": {
    "ExecuteTime": {
     "end_time": "2024-12-15T13:53:30.206484Z",
     "start_time": "2024-12-15T13:53:30.199148Z"
    }
   },
   "cell_type": "code",
   "source": [
    "query = inputs[1] # segundo token é a query\n",
    "attn_scores = torch.empty(inputs.shape[0])\n",
    "\n",
    "for i, x_i in enumerate(inputs):\n",
    "    attn_scores[i] = torch.dot(x_i, query) # produto escalar para descobrir similaridade (alinhamento)\n",
    "\n",
    "print(attn_scores)"
   ],
   "id": "c4172b1f55b8c2f6",
   "outputs": [
    {
     "name": "stdout",
     "output_type": "stream",
     "text": [
      "tensor([0.9544, 1.4950, 1.4754, 0.8434, 0.7070, 1.0865])\n"
     ]
    }
   ],
   "execution_count": 15
  },
  {
   "metadata": {
    "ExecuteTime": {
     "end_time": "2024-12-15T13:53:30.330796Z",
     "start_time": "2024-12-15T13:53:30.324936Z"
    }
   },
   "cell_type": "code",
   "source": [
    "# Normalização serve para interpretação e estabilidade no treino, passar\n",
    "# para formato de porcentagens\n",
    "# Após normalização, temos o tensor attention weights\n",
    "# Principal objetivo fazer com que a soma dos attention weights seja 1\n",
    "attn_weights_tmp = attn_scores / attn_scores.sum() # Jeito mais simples é dividir cada um pela soma\n",
    "print(attn_weights_tmp)"
   ],
   "id": "e9b30eee1742bc4d",
   "outputs": [
    {
     "name": "stdout",
     "output_type": "stream",
     "text": [
      "tensor([0.1455, 0.2278, 0.2249, 0.1285, 0.1077, 0.1656])\n"
     ]
    }
   ],
   "execution_count": 16
  },
  {
   "metadata": {
    "ExecuteTime": {
     "end_time": "2024-12-15T13:53:30.472718Z",
     "start_time": "2024-12-15T13:53:30.467226Z"
    }
   },
   "cell_type": "code",
   "source": [
    "# No entanto, é recomendado usar a função softmax para normalização\n",
    "# Quando temos valores extremos, é ideal que valores pequenos sejam 0\n",
    "# e valores grandes sejam 1, para não confundir o otimizador durante \n",
    "# back propagation, pois ele daria importância para esses pequenos valores\n",
    "\n",
    "# Sendo xn um attention score qualquer\n",
    "# Softmax tem uma fórmula e^xn / sum, sendo sum = e^xi + e^xi+1...\n",
    "# Pytorch tem uma implementação e^(xn - max), sendo max o valor máximo\n",
    "attn_weights = torch.softmax(attn_scores, dim=0)\n",
    "print(\"Attention weights: \", attn_weights)"
   ],
   "id": "e620d0313e0d5bf6",
   "outputs": [
    {
     "name": "stdout",
     "output_type": "stream",
     "text": [
      "Attention weights:  tensor([0.1385, 0.2379, 0.2333, 0.1240, 0.1082, 0.1581])\n"
     ]
    }
   ],
   "execution_count": 17
  },
  {
   "metadata": {
    "ExecuteTime": {
     "end_time": "2024-12-15T13:53:30.566985Z",
     "start_time": "2024-12-15T13:53:30.561328Z"
    }
   },
   "cell_type": "code",
   "source": [
    "query = inputs[1] # tensor de journey\n",
    "context_vec = torch.zeros(query.shape) # iniciando tensor com valores zero\n",
    "\n",
    "for i, x_i in enumerate(inputs):\n",
    "    context_vec += attn_weights[i] * x_i\n",
    "\n",
    "print(context_vec)"
   ],
   "id": "6907902ee7101d4d",
   "outputs": [
    {
     "name": "stdout",
     "output_type": "stream",
     "text": [
      "tensor([0.4419, 0.6515, 0.5683])\n"
     ]
    }
   ],
   "execution_count": 18
  }
 ],
 "metadata": {
  "kernelspec": {
   "display_name": "Python 3",
   "language": "python",
   "name": "python3"
  },
  "language_info": {
   "codemirror_mode": {
    "name": "ipython",
    "version": 2
   },
   "file_extension": ".py",
   "mimetype": "text/x-python",
   "name": "python",
   "nbconvert_exporter": "python",
   "pygments_lexer": "ipython2",
   "version": "2.7.6"
  }
 },
 "nbformat": 4,
 "nbformat_minor": 5
}
